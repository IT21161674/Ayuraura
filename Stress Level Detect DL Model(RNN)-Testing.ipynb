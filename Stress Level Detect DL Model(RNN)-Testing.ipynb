{
 "cells": [
  {
   "cell_type": "code",
   "execution_count": 1,
   "metadata": {
    "colab": {
     "base_uri": "https://localhost:8080/"
    },
    "executionInfo": {
     "elapsed": 35208,
     "status": "ok",
     "timestamp": 1732946088362,
     "user": {
      "displayName": "Thyagi 2",
      "userId": "17168395753161987242"
     },
     "user_tz": -330
    },
    "id": "ZDqs6qAUd-XF",
    "outputId": "3020db48-59da-4cf1-a859-a848fb99ef32"
   },
   "outputs": [
    {
     "name": "stdout",
     "output_type": "stream",
     "text": [
      "Mounted at /content/drive\n"
     ]
    }
   ],
   "source": [
    "from google.colab import drive\n",
    "drive.mount('/content/drive')"
   ]
  },
  {
   "cell_type": "code",
   "execution_count": 2,
   "metadata": {
    "executionInfo": {
     "elapsed": 6624,
     "status": "ok",
     "timestamp": 1732946102668,
     "user": {
      "displayName": "Thyagi 2",
      "userId": "17168395753161987242"
     },
     "user_tz": -330
    },
    "id": "vBF6fz34f1gC"
   },
   "outputs": [],
   "source": [
    "import pandas as pd\n",
    "import numpy as np\n",
    "from sklearn.model_selection import train_test_split\n",
    "from sklearn.preprocessing import StandardScaler, LabelEncoder\n",
    "from tensorflow.keras.models import Sequential\n",
    "from tensorflow.keras.layers import LSTM, Dense, Dropout\n",
    "from tensorflow.keras.utils import to_categorical\n",
    "from sklearn.metrics import classification_report, confusion_matrix\n",
    "import matplotlib.pyplot as plt\n",
    "import seaborn as sns\n",
    "import warnings\n",
    "warnings.filterwarnings(\"ignore\")"
   ]
  },
  {
   "cell_type": "code",
   "execution_count": 3,
   "metadata": {
    "colab": {
     "base_uri": "https://localhost:8080/"
    },
    "executionInfo": {
     "elapsed": 897,
     "status": "ok",
     "timestamp": 1732946147066,
     "user": {
      "displayName": "Thyagi 2",
      "userId": "17168395753161987242"
     },
     "user_tz": -330
    },
    "id": "hzKyQ9lOeBY4",
    "outputId": "875844c7-8f86-4cf2-9fe6-91d1118c8ab2"
   },
   "outputs": [
    {
     "name": "stderr",
     "output_type": "stream",
     "text": [
      "WARNING:absl:Compiled the loaded model, but the compiled metrics have yet to be built. `model.compile_metrics` will be empty until you train or evaluate the model.\n"
     ]
    }
   ],
   "source": [
    "from tensorflow.keras.models import load_model\n",
    "loaded_model = load_model('/content/drive/MyDrive/Models/stress_detection_rnn_model.h5')"
   ]
  },
  {
   "cell_type": "code",
   "execution_count": 4,
   "metadata": {
    "executionInfo": {
     "elapsed": 982,
     "status": "ok",
     "timestamp": 1732946163984,
     "user": {
      "displayName": "Thyagi 2",
      "userId": "17168395753161987242"
     },
     "user_tz": -330
    },
    "id": "09V2_LxwfyhT"
   },
   "outputs": [],
   "source": [
    "# Step 1: Data Preprocessing and Cleaning\n",
    "def preprocess_data(filepath):\n",
    "    data = pd.read_csv(filepath)\n",
    "    data = data.drop(columns=[\"User ID\", \"Unnamed: 10\", \"Unnamed: 11\", \"Unnamed: 12\"], errors='ignore')\n",
    "    mapping = {\n",
    "        \"Mandala Design Pattern\": {\"1 (Complex)\": 1, \"2 (Medium)\": 2, \"3 (Simple)\": 3},\n",
    "        \"Gender\": {\"Male\": 0, \"Female\": 1, \"Other\": 2}\n",
    "    }\n",
    "    data.replace(mapping, inplace=True)\n",
    "\n",
    "    # Encode target labels\n",
    "    le = LabelEncoder()\n",
    "    data[\"Stress Level (1-4)\"] = le.fit_transform(data[\"Stress Level (1-4)\"])\n",
    "    return data, le\n",
    "\n",
    "# Load and preprocess the data\n",
    "file_path = '/content/drive/MyDrive/dataset.csv'\n",
    "data, label_encoder = preprocess_data(file_path)\n",
    "\n",
    "# Split features and target\n",
    "X = data.drop(columns=[\"Stress Level (1-4)\"])\n",
    "y = to_categorical(data[\"Stress Level (1-4)\"])\n",
    "\n",
    "# Standardize the features\n",
    "scaler = StandardScaler()\n",
    "X_scaled = scaler.fit_transform(X)\n"
   ]
  },
  {
   "cell_type": "code",
   "execution_count": 5,
   "metadata": {
    "colab": {
     "base_uri": "https://localhost:8080/"
    },
    "executionInfo": {
     "elapsed": 491,
     "status": "ok",
     "timestamp": 1732946169268,
     "user": {
      "displayName": "Thyagi 2",
      "userId": "17168395753161987242"
     },
     "user_tz": -330
    },
    "id": "z1z3Ni3GfK4-",
    "outputId": "1456020c-e4a0-4623-d439-fd531b3c2589"
   },
   "outputs": [
    {
     "name": "stdout",
     "output_type": "stream",
     "text": [
      "Input data for prediction: [[[-1.55218581]\n",
      "  [-1.08235514]\n",
      "  [ 1.23451003]\n",
      "  [ 1.39637843]\n",
      "  [-1.75561215]\n",
      "  [ 1.77639502]\n",
      "  [-0.24978955]\n",
      "  [-2.15965215]]]\n",
      "\u001b[1m1/1\u001b[0m \u001b[32m━━━━━━━━━━━━━━━━━━━━\u001b[0m\u001b[37m\u001b[0m \u001b[1m0s\u001b[0m 309ms/step\n",
      "Predicted Stress Level: [4]\n"
     ]
    }
   ],
   "source": [
    "new_data = scaler.transform([[25, 0, 3, 8, 15, 8, 20, 35]])  # Example input\n",
    "new_data_reshaped = new_data.reshape(new_data.shape[0], new_data.shape[1], 1)\n",
    "print(\"Input data for prediction:\", new_data_reshaped)\n",
    "prediction = np.argmax(loaded_model.predict(new_data_reshaped), axis=1)\n",
    "print(\"Predicted Stress Level:\", label_encoder.inverse_transform(prediction))"
   ]
  },
  {
   "cell_type": "code",
   "execution_count": 6,
   "metadata": {
    "colab": {
     "base_uri": "https://localhost:8080/"
    },
    "executionInfo": {
     "elapsed": 740,
     "status": "ok",
     "timestamp": 1732946175523,
     "user": {
      "displayName": "Thyagi 2",
      "userId": "17168395753161987242"
     },
     "user_tz": -330
    },
    "id": "Em-i-nBOgSYE",
    "outputId": "4ff06dfb-94c8-4305-f437-223721e35e19"
   },
   "outputs": [
    {
     "name": "stdout",
     "output_type": "stream",
     "text": [
      "Input data for prediction: [[[ 1.82169502]\n",
      "  [ 0.87480675]\n",
      "  [-1.21991483]\n",
      "  [-1.11511147]\n",
      "  [-0.21792755]\n",
      "  [ 0.3997571 ]\n",
      "  [-0.24978955]\n",
      "  [-0.4924073 ]]]\n",
      "\u001b[1m1/1\u001b[0m \u001b[32m━━━━━━━━━━━━━━━━━━━━\u001b[0m\u001b[37m\u001b[0m \u001b[1m0s\u001b[0m 19ms/step\n",
      "Predicted Stress Level: [2]\n"
     ]
    }
   ],
   "source": [
    "new_data = scaler.transform([[35, 1, 1, 3, 25, 6, 20, 45]])  # Example input\n",
    "new_data_reshaped = new_data.reshape(new_data.shape[0], new_data.shape[1], 1)\n",
    "print(\"Input data for prediction:\", new_data_reshaped)\n",
    "prediction = np.argmax(loaded_model.predict(new_data_reshaped), axis=1)\n",
    "print(\"Predicted Stress Level:\", label_encoder.inverse_transform(prediction))"
   ]
  }
 ],
 "metadata": {
  "colab": {
   "authorship_tag": "ABX9TyOOy2w5/R8O73ir6SehvX89",
   "provenance": []
  },
  "kernelspec": {
   "display_name": "Python 3",
   "name": "python3"
  },
  "language_info": {
   "name": "python"
  }
 },
 "nbformat": 4,
 "nbformat_minor": 0
}
