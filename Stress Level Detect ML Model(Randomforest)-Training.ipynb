{
 "cells": [
  {
   "cell_type": "code",
   "execution_count": 1,
   "metadata": {
    "colab": {
     "base_uri": "https://localhost:8080/"
    },
    "executionInfo": {
     "elapsed": 25312,
     "status": "ok",
     "timestamp": 1732890181715,
     "user": {
      "displayName": "Thyagi 2",
      "userId": "17168395753161987242"
     },
     "user_tz": -330
    },
    "id": "m-eqbosTTBge",
    "outputId": "54de2307-e8ff-4c0e-9b1a-c3824904109e"
   },
   "outputs": [
    {
     "name": "stdout",
     "output_type": "stream",
     "text": [
      "Mounted at /content/drive\n"
     ]
    }
   ],
   "source": [
    "from google.colab import drive\n",
    "drive.mount('/content/drive')"
   ]
  },
  {
   "cell_type": "code",
   "execution_count": 39,
   "metadata": {
    "executionInfo": {
     "elapsed": 752,
     "status": "ok",
     "timestamp": 1732891392803,
     "user": {
      "displayName": "Thyagi 2",
      "userId": "17168395753161987242"
     },
     "user_tz": -330
    },
    "id": "RIlSQYM2TlE7"
   },
   "outputs": [],
   "source": [
    "import pandas as pd\n",
    "from sklearn.model_selection import train_test_split\n",
    "from sklearn.ensemble import RandomForestClassifier\n",
    "from sklearn.metrics import classification_report, accuracy_score, confusion_matrix\n",
    "from sklearn.model_selection import GridSearchCV\n",
    "import joblib\n",
    "import warnings\n",
    "warnings.filterwarnings(\"ignore\")\n",
    "import matplotlib.pyplot as plt\n",
    "import seaborn as sns"
   ]
  },
  {
   "cell_type": "markdown",
   "metadata": {
    "id": "KrWDnK9XTo85"
   },
   "source": [
    "# Step 1: Data Preprocessing and Cleaning"
   ]
  },
  {
   "cell_type": "code",
   "execution_count": 40,
   "metadata": {
    "executionInfo": {
     "elapsed": 561,
     "status": "ok",
     "timestamp": 1732891393750,
     "user": {
      "displayName": "Thyagi 2",
      "userId": "17168395753161987242"
     },
     "user_tz": -330
    },
    "id": "9hGN_cklTsBt"
   },
   "outputs": [],
   "source": [
    "def preprocess_data(filepath):\n",
    "    data = pd.read_csv(filepath)\n",
    "    data = data.drop(columns=[\"User ID\", \"Unnamed: 10\", \"Unnamed: 11\", \"Unnamed: 12\"], errors='ignore')\n",
    "\n",
    "    mapping = {\n",
    "        \"Mandala Design Pattern\": {\"1 (Complex)\": 1, \"2 (Medium)\": 2, \"3 (Simple)\": 3},\n",
    "        \"Gender\": {\"Male\": 0, \"Female\": 1, \"Other\": 2}\n",
    "    }\n",
    "    data.replace(mapping, inplace=True)\n",
    "    return data"
   ]
  },
  {
   "cell_type": "markdown",
   "metadata": {
    "id": "IdkuOMwPTugm"
   },
   "source": [
    "# Step 2: Selecting the Right Machine Learning Model\n"
   ]
  },
  {
   "cell_type": "code",
   "execution_count": 41,
   "metadata": {
    "executionInfo": {
     "elapsed": 1,
     "status": "ok",
     "timestamp": 1732891395114,
     "user": {
      "displayName": "Thyagi 2",
      "userId": "17168395753161987242"
     },
     "user_tz": -330
    },
    "id": "G_zdLzsgTvLK"
   },
   "outputs": [],
   "source": [
    "class StressLevelModel:\n",
    "    def __init__(self):\n",
    "        self.model = RandomForestClassifier(random_state=42)\n",
    "\n",
    "    def train(self, X_train, y_train):\n",
    "        self.model.fit(X_train, y_train)\n",
    "\n",
    "    def evaluate(self, X_test, y_test):\n",
    "        y_pred = self.model.predict(X_test)\n",
    "        accuracy = accuracy_score(y_test, y_pred)\n",
    "        report = classification_report(y_test, y_pred)\n",
    "        cm = confusion_matrix(y_test, y_pred)\n",
    "        return accuracy, report, cm\n",
    "\n",
    "    def tune_hyperparameters(self, X_train, y_train):\n",
    "        param_grid = {\n",
    "            'n_estimators': [50, 100, 200],\n",
    "            'max_depth': [None, 10, 20, 30],\n",
    "            'min_samples_split': [2, 5, 10]\n",
    "        }\n",
    "        grid_search = GridSearchCV(self.model, param_grid, cv=3, scoring='accuracy')\n",
    "        grid_search.fit(X_train, y_train)\n",
    "        self.model = grid_search.best_estimator_\n",
    "        return grid_search.best_params_\n",
    "\n",
    "    def save_model(self, filepath):\n",
    "        joblib.dump(self.model, filepath)\n",
    "\n",
    "    def load_model(self, filepath):\n",
    "        self.model = joblib.load(filepath)\n",
    "\n",
    "    def predict(self, input_data):\n",
    "        return self.model.predict(input_data)"
   ]
  },
  {
   "cell_type": "markdown",
   "metadata": {
    "id": "sMa6IuzcTzJz"
   },
   "source": [
    "# Load and preprocess the data\n"
   ]
  },
  {
   "cell_type": "code",
   "execution_count": 42,
   "metadata": {
    "executionInfo": {
     "elapsed": 366,
     "status": "ok",
     "timestamp": 1732891397351,
     "user": {
      "displayName": "Thyagi 2",
      "userId": "17168395753161987242"
     },
     "user_tz": -330
    },
    "id": "IQK7iNikT09C"
   },
   "outputs": [],
   "source": [
    "file_path = '/content/drive/MyDrive/dataset.csv'\n",
    "data = preprocess_data(file_path)"
   ]
  },
  {
   "cell_type": "markdown",
   "metadata": {
    "id": "-ht7AmoUT6SG"
   },
   "source": [
    "# Split the data\n"
   ]
  },
  {
   "cell_type": "code",
   "execution_count": 43,
   "metadata": {
    "executionInfo": {
     "elapsed": 1,
     "status": "ok",
     "timestamp": 1732891398745,
     "user": {
      "displayName": "Thyagi 2",
      "userId": "17168395753161987242"
     },
     "user_tz": -330
    },
    "id": "zRBknYUtT6tD"
   },
   "outputs": [],
   "source": [
    "X = data.drop(columns=[\"Stress Level (1-4)\"])\n",
    "y = data[\"Stress Level (1-4)\"]\n",
    "X_train, X_test, y_train, y_test = train_test_split(X, y, test_size=0.2, random_state=42, stratify=y)"
   ]
  },
  {
   "cell_type": "markdown",
   "metadata": {
    "id": "-K90lDS_T-zK"
   },
   "source": [
    "# Step 3: Training Machine Learning Model\n"
   ]
  },
  {
   "cell_type": "code",
   "execution_count": 44,
   "metadata": {
    "executionInfo": {
     "elapsed": 1,
     "status": "ok",
     "timestamp": 1732891400189,
     "user": {
      "displayName": "Thyagi 2",
      "userId": "17168395753161987242"
     },
     "user_tz": -330
    },
    "id": "FuDUUknST_RX"
   },
   "outputs": [],
   "source": [
    "stress_model = StressLevelModel()\n",
    "stress_model.train(X_train, y_train)"
   ]
  },
  {
   "cell_type": "markdown",
   "metadata": {
    "id": "ujA1UqIRUJG3"
   },
   "source": [
    "# Step 4: Evaluating Model Performance\n"
   ]
  },
  {
   "cell_type": "code",
   "execution_count": 45,
   "metadata": {
    "colab": {
     "base_uri": "https://localhost:8080/"
    },
    "executionInfo": {
     "elapsed": 357,
     "status": "ok",
     "timestamp": 1732891401089,
     "user": {
      "displayName": "Thyagi 2",
      "userId": "17168395753161987242"
     },
     "user_tz": -330
    },
    "id": "HUzQQdM3UHRY",
    "outputId": "dfbb9c8e-f5c2-4a79-c30a-24d60225eb95"
   },
   "outputs": [
    {
     "name": "stdout",
     "output_type": "stream",
     "text": [
      "Initial Accuracy: 0.6584158415841584\n",
      "\n",
      "Classification Report:\n",
      "               precision    recall  f1-score   support\n",
      "\n",
      "           1       0.64      0.67      0.65        52\n",
      "           2       0.59      0.56      0.57        59\n",
      "           3       0.63      0.63      0.63        49\n",
      "           4       0.81      0.81      0.81        42\n",
      "\n",
      "    accuracy                           0.66       202\n",
      "   macro avg       0.67      0.67      0.67       202\n",
      "weighted avg       0.66      0.66      0.66       202\n",
      "\n"
     ]
    }
   ],
   "source": [
    "accuracy, report, cm = stress_model.evaluate(X_test, y_test)\n",
    "print(f\"Initial Accuracy: {accuracy}\\n\")\n",
    "print(\"Classification Report:\\n\", report)"
   ]
  },
  {
   "cell_type": "markdown",
   "metadata": {
    "id": "zFBKe76UX4ty"
   },
   "source": [
    "# Plot confusion matrix\n"
   ]
  },
  {
   "cell_type": "code",
   "execution_count": 46,
   "metadata": {
    "colab": {
     "base_uri": "https://localhost:8080/",
     "height": 564
    },
    "executionInfo": {
     "elapsed": 403,
     "status": "ok",
     "timestamp": 1732891402660,
     "user": {
      "displayName": "Thyagi 2",
      "userId": "17168395753161987242"
     },
     "user_tz": -330
    },
    "id": "cJSMcqLTX1UD",
    "outputId": "f6af0f8e-02ed-4337-e2e2-a46dc17eb2a6"
   },
   "outputs": [
    {
     "data": {
      "image/png": "[encoded data removed]",
      "text/plain": [
       "<Figure size 800x600 with 2 Axes>"
      ]
     },
     "metadata": {},
     "output_type": "display_data"
    }
   ],
   "source": [
    "plt.figure(figsize=(8, 6))\n",
    "sns.heatmap(cm, annot=True, fmt='d', cmap='Blues', xticklabels=[1, 2, 3, 4], yticklabels=[1, 2, 3, 4])\n",
    "plt.xlabel('Predicted')\n",
    "plt.ylabel('Actual')\n",
    "plt.title('Confusion Matrix - Initial Model')\n",
    "plt.show()"
   ]
  },
  {
   "cell_type": "markdown",
   "metadata": {
    "id": "FN4SLOwYUbQG"
   },
   "source": [
    "# Step 5: Tuning and Optimizing Model\n"
   ]
  },
  {
   "cell_type": "code",
   "execution_count": 47,
   "metadata": {
    "colab": {
     "base_uri": "https://localhost:8080/"
    },
    "executionInfo": {
     "elapsed": 34143,
     "status": "ok",
     "timestamp": 1732891441667,
     "user": {
      "displayName": "Thyagi 2",
      "userId": "17168395753161987242"
     },
     "user_tz": -330
    },
    "id": "KvOkjLq5Uar5",
    "outputId": "5c351e56-07dc-406b-bc41-7072fce8d9a6"
   },
   "outputs": [
    {
     "name": "stdout",
     "output_type": "stream",
     "text": [
      "Best Hyperparameters:\n",
      " {'max_depth': None, 'min_samples_split': 5, 'n_estimators': 200}\n"
     ]
    }
   ],
   "source": [
    "best_params = stress_model.tune_hyperparameters(X_train, y_train)\n",
    "print(\"Best Hyperparameters:\\n\", best_params)"
   ]
  },
  {
   "cell_type": "markdown",
   "metadata": {
    "id": "54BfS01-Uihc"
   },
   "source": [
    "# Evaluate the tuned model\n"
   ]
  },
  {
   "cell_type": "code",
   "execution_count": 48,
   "metadata": {
    "colab": {
     "base_uri": "https://localhost:8080/"
    },
    "executionInfo": {
     "elapsed": 2,
     "status": "ok",
     "timestamp": 1732891441667,
     "user": {
      "displayName": "Thyagi 2",
      "userId": "17168395753161987242"
     },
     "user_tz": -330
    },
    "id": "ZKmjeuZ9UiGC",
    "outputId": "d693958f-9f8e-4df3-dc39-a072593fec4d"
   },
   "outputs": [
    {
     "name": "stdout",
     "output_type": "stream",
     "text": [
      "Tuned Accuracy: 0.7128712871287128\n",
      "\n",
      "Tuned Classification Report:\n",
      "               precision    recall  f1-score   support\n",
      "\n",
      "           1       0.72      0.79      0.75        52\n",
      "           2       0.63      0.64      0.64        59\n",
      "           3       0.69      0.63      0.66        49\n",
      "           4       0.85      0.81      0.83        42\n",
      "\n",
      "    accuracy                           0.71       202\n",
      "   macro avg       0.72      0.72      0.72       202\n",
      "weighted avg       0.71      0.71      0.71       202\n",
      "\n"
     ]
    }
   ],
   "source": [
    "accuracy, report, cm = stress_model.evaluate(X_test, y_test)\n",
    "print(f\"Tuned Accuracy: {accuracy}\\n\")\n",
    "print(\"Tuned Classification Report:\\n\", report)"
   ]
  },
  {
   "cell_type": "markdown",
   "metadata": {
    "id": "CxepBRIvYAjy"
   },
   "source": [
    "# Plot confusion matrix for tuned model\n"
   ]
  },
  {
   "cell_type": "code",
   "execution_count": 49,
   "metadata": {
    "colab": {
     "base_uri": "https://localhost:8080/",
     "height": 564
    },
    "executionInfo": {
     "elapsed": 1721,
     "status": "ok",
     "timestamp": 1732891443387,
     "user": {
      "displayName": "Thyagi 2",
      "userId": "17168395753161987242"
     },
     "user_tz": -330
    },
    "id": "dl-BIqYnYAO_",
    "outputId": "952126d7-c799-4f18-fb8d-1227a48dc38d"
   },
   "outputs": [
    {
     "data": {
      "image/png": "[encoded data removed]",
      "text/plain": [
       "<Figure size 800x600 with 2 Axes>"
      ]
     },
     "metadata": {},
     "output_type": "display_data"
    }
   ],
   "source": [
    "plt.figure(figsize=(8, 6))\n",
    "sns.heatmap(cm, annot=True, fmt='d', cmap='Blues', xticklabels=[1, 2, 3, 4], yticklabels=[1, 2, 3, 4])\n",
    "plt.xlabel('Predicted')\n",
    "plt.ylabel('Actual')\n",
    "plt.title('Confusion Matrix - Tuned Model')\n",
    "plt.show()"
   ]
  },
  {
   "cell_type": "markdown",
   "metadata": {
    "id": "yV5_iv90UowH"
   },
   "source": [
    "# Step 6: Deploying the Model and Making Predictions\n"
   ]
  },
  {
   "cell_type": "code",
   "execution_count": 50,
   "metadata": {
    "colab": {
     "base_uri": "https://localhost:8080/"
    },
    "executionInfo": {
     "elapsed": 373,
     "status": "ok",
     "timestamp": 1732891443758,
     "user": {
      "displayName": "Thyagi 2",
      "userId": "17168395753161987242"
     },
     "user_tz": -330
    },
    "id": "UUVHXrkvUofz",
    "outputId": "a9e60fe3-3034-4873-a9a9-8f776413fd35"
   },
   "outputs": [
    {
     "name": "stdout",
     "output_type": "stream",
     "text": [
      "Model saved to /content/drive/MyDrive/Models/stress_level_model.joblib\n"
     ]
    }
   ],
   "source": [
    "model_path = '/content/drive/MyDrive/Models/stress_level_model.joblib'\n",
    "stress_model.save_model(model_path)\n",
    "print(f\"Model saved to {model_path}\")"
   ]
  }
 ],
 "metadata": {
  "colab": {
   "authorship_tag": "ABX9TyPWC+ZRvil7FfHWrl3Ykg7c",
   "provenance": []
  },
  "kernelspec": {
   "display_name": "Python 3",
   "name": "python3"
  },
  "language_info": {
   "name": "python"
  }
 },
 "nbformat": 4,
 "nbformat_minor": 0
}
